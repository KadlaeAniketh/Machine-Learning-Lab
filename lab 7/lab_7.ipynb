{
 "cells": [
  {
   "cell_type": "code",
   "execution_count": 1,
   "metadata": {},
   "outputs": [],
   "source": [
    "import pandas as pd\n",
    "import numpy as np\n",
    "import matplotlib.pyplot as plt\n",
    "import seaborn as sns\n",
    "from sklearn.model_selection import train_test_split\n",
    "from sklearn.preprocessing import LabelEncoder\n",
    "from sklearn.impute import SimpleImputer\n",
    "from sklearn.tree import DecisionTreeClassifier\n",
    "from sklearn.metrics import accuracy_score, classification_report, confusion_matrix\n"
   ]
  },
  {
   "cell_type": "code",
   "execution_count": 6,
   "metadata": {},
   "outputs": [
    {
     "name": "stdout",
     "output_type": "stream",
     "text": [
      "       label  pixel0  pixel1  pixel2  pixel3  pixel4  pixel5  pixel6  pixel7  \\\n",
      "0          1       0       0       0       0       0       0       0       0   \n",
      "1          0       0       0       0       0       0       0       0       0   \n",
      "2          1       0       0       0       0       0       0       0       0   \n",
      "3          4       0       0       0       0       0       0       0       0   \n",
      "4          0       0       0       0       0       0       0       0       0   \n",
      "...      ...     ...     ...     ...     ...     ...     ...     ...     ...   \n",
      "41995      0       0       0       0       0       0       0       0       0   \n",
      "41996      1       0       0       0       0       0       0       0       0   \n",
      "41997      7       0       0       0       0       0       0       0       0   \n",
      "41998      6       0       0       0       0       0       0       0       0   \n",
      "41999      9       0       0       0       0       0       0       0       0   \n",
      "\n",
      "       pixel8  ...  pixel774  pixel775  pixel776  pixel777  pixel778  \\\n",
      "0           0  ...         0         0         0         0         0   \n",
      "1           0  ...         0         0         0         0         0   \n",
      "2           0  ...         0         0         0         0         0   \n",
      "3           0  ...         0         0         0         0         0   \n",
      "4           0  ...         0         0         0         0         0   \n",
      "...       ...  ...       ...       ...       ...       ...       ...   \n",
      "41995       0  ...         0         0         0         0         0   \n",
      "41996       0  ...         0         0         0         0         0   \n",
      "41997       0  ...         0         0         0         0         0   \n",
      "41998       0  ...         0         0         0         0         0   \n",
      "41999       0  ...         0         0         0         0         0   \n",
      "\n",
      "       pixel779  pixel780  pixel781  pixel782  pixel783  \n",
      "0             0         0         0         0         0  \n",
      "1             0         0         0         0         0  \n",
      "2             0         0         0         0         0  \n",
      "3             0         0         0         0         0  \n",
      "4             0         0         0         0         0  \n",
      "...         ...       ...       ...       ...       ...  \n",
      "41995         0         0         0         0         0  \n",
      "41996         0         0         0         0         0  \n",
      "41997         0         0         0         0         0  \n",
      "41998         0         0         0         0         0  \n",
      "41999         0         0         0         0         0  \n",
      "\n",
      "[42000 rows x 785 columns]\n"
     ]
    }
   ],
   "source": [
    "train_df=pd.read_csv('Week7_train.csv')\n",
    "train_df.iloc[0:5,0:10]\n",
    "print(train_df)"
   ]
  },
  {
   "cell_type": "code",
   "execution_count": 11,
   "metadata": {},
   "outputs": [],
   "source": [
    "df_sample=train_df.sample(int(42000*0.1))"
   ]
  },
  {
   "cell_type": "code",
   "execution_count": 12,
   "metadata": {},
   "outputs": [
    {
     "name": "stdout",
     "output_type": "stream",
     "text": [
      "       label  pixel0  pixel1  pixel2  pixel3  pixel4  pixel5  pixel6  pixel7  \\\n",
      "13658      2       0       0       0       0       0       0       0       0   \n",
      "30373      7       0       0       0       0       0       0       0       0   \n",
      "966        7       0       0       0       0       0       0       0       0   \n",
      "18390      2       0       0       0       0       0       0       0       0   \n",
      "15615      7       0       0       0       0       0       0       0       0   \n",
      "...      ...     ...     ...     ...     ...     ...     ...     ...     ...   \n",
      "36297      1       0       0       0       0       0       0       0       0   \n",
      "29299      5       0       0       0       0       0       0       0       0   \n",
      "8922       3       0       0       0       0       0       0       0       0   \n",
      "28288      3       0       0       0       0       0       0       0       0   \n",
      "14269      2       0       0       0       0       0       0       0       0   \n",
      "\n",
      "       pixel8  ...  pixel774  pixel775  pixel776  pixel777  pixel778  \\\n",
      "13658       0  ...         0         0         0         0         0   \n",
      "30373       0  ...         0         0         0         0         0   \n",
      "966         0  ...         0         0         0         0         0   \n",
      "18390       0  ...         0         0         0         0         0   \n",
      "15615       0  ...         0         0         0         0         0   \n",
      "...       ...  ...       ...       ...       ...       ...       ...   \n",
      "36297       0  ...         0         0         0         0         0   \n",
      "29299       0  ...         0         0         0         0         0   \n",
      "8922        0  ...         0         0         0         0         0   \n",
      "28288       0  ...         0         0         0         0         0   \n",
      "14269       0  ...         0         0         0         0         0   \n",
      "\n",
      "       pixel779  pixel780  pixel781  pixel782  pixel783  \n",
      "13658         0         0         0         0         0  \n",
      "30373         0         0         0         0         0  \n",
      "966           0         0         0         0         0  \n",
      "18390         0         0         0         0         0  \n",
      "15615         0         0         0         0         0  \n",
      "...         ...       ...       ...       ...       ...  \n",
      "36297         0         0         0         0         0  \n",
      "29299         0         0         0         0         0  \n",
      "8922          0         0         0         0         0  \n",
      "28288         0         0         0         0         0  \n",
      "14269         0         0         0         0         0  \n",
      "\n",
      "[4200 rows x 785 columns]\n"
     ]
    }
   ],
   "source": [
    "print(df_sample)"
   ]
  },
  {
   "cell_type": "code",
   "execution_count": 14,
   "metadata": {},
   "outputs": [
    {
     "name": "stdout",
     "output_type": "stream",
     "text": [
      "       label  pixel0  pixel1  pixel2  pixel3  pixel4  pixel5  pixel6  pixel7  \\\n",
      "13658      2       0       0       0       0       0       0       0       0   \n",
      "30373      7       0       0       0       0       0       0       0       0   \n",
      "966        7       0       0       0       0       0       0       0       0   \n",
      "18390      2       0       0       0       0       0       0       0       0   \n",
      "15615      7       0       0       0       0       0       0       0       0   \n",
      "\n",
      "       pixel8  ...  pixel774  pixel775  pixel776  pixel777  pixel778  \\\n",
      "13658       0  ...         0         0         0         0         0   \n",
      "30373       0  ...         0         0         0         0         0   \n",
      "966         0  ...         0         0         0         0         0   \n",
      "18390       0  ...         0         0         0         0         0   \n",
      "15615       0  ...         0         0         0         0         0   \n",
      "\n",
      "       pixel779  pixel780  pixel781  pixel782  pixel783  \n",
      "13658         0         0         0         0         0  \n",
      "30373         0         0         0         0         0  \n",
      "966           0         0         0         0         0  \n",
      "18390         0         0         0         0         0  \n",
      "15615         0         0         0         0         0  \n",
      "\n",
      "[5 rows x 785 columns]\n"
     ]
    }
   ],
   "source": [
    "df_sample=df_sample.iloc[0:5]\n",
    "print(df_sample)"
   ]
  },
  {
   "cell_type": "code",
   "execution_count": null,
   "metadata": {},
   "outputs": [],
   "source": []
  }
 ],
 "metadata": {
  "kernelspec": {
   "display_name": "Python 3",
   "language": "python",
   "name": "python3"
  },
  "language_info": {
   "codemirror_mode": {
    "name": "ipython",
    "version": 3
   },
   "file_extension": ".py",
   "mimetype": "text/x-python",
   "name": "python",
   "nbconvert_exporter": "python",
   "pygments_lexer": "ipython3",
   "version": "3.12.4"
  }
 },
 "nbformat": 4,
 "nbformat_minor": 2
}
