{
 "cells": [
  {
   "cell_type": "code",
   "execution_count": 46,
   "metadata": {},
   "outputs": [
    {
     "name": "stdout",
     "output_type": "stream",
     "text": [
      "Hello world\n"
     ]
    }
   ],
   "source": [
    "print(\"Hello world\")"
   ]
  },
  {
   "cell_type": "markdown",
   "metadata": {},
   "source": [
    "Dataset - tvmarketing.csv\n",
    "Forecast Sales based on 'TV' marketing budget. You need to build a linear\n",
    "regression model to predict 'Sales' using 'TV' as the predictor variable."
   ]
  },
  {
   "cell_type": "markdown",
   "metadata": {},
   "source": []
  },
  {
   "cell_type": "code",
   "execution_count": 47,
   "metadata": {},
   "outputs": [
    {
     "name": "stdout",
     "output_type": "stream",
     "text": [
      "        TV  Sales\n",
      "0    230.1   22.1\n",
      "1     44.5   10.4\n",
      "2     17.2    9.3\n",
      "3    151.5   18.5\n",
      "4    180.8   12.9\n",
      "..     ...    ...\n",
      "195   38.2    7.6\n",
      "196   94.2    9.7\n",
      "197  177.0   12.8\n",
      "198  283.6   25.5\n",
      "199  232.1   13.4\n",
      "\n",
      "[200 rows x 2 columns]\n"
     ]
    }
   ],
   "source": [
    "import pandas as pd\n",
    "df=pd.read_csv('tvmarketing.csv')\n",
    "print(df)"
   ]
  },
  {
   "cell_type": "markdown",
   "metadata": {},
   "source": []
  },
  {
   "cell_type": "code",
   "execution_count": 48,
   "metadata": {},
   "outputs": [
    {
     "name": "stdout",
     "output_type": "stream",
     "text": [
      "      TV  Sales\n",
      "0  230.1   22.1\n",
      "1   44.5   10.4\n",
      "2   17.2    9.3\n",
      "3  151.5   18.5\n",
      "4  180.8   12.9\n"
     ]
    }
   ],
   "source": [
    "print(df.head(5))"
   ]
  },
  {
   "cell_type": "code",
   "execution_count": 49,
   "metadata": {},
   "outputs": [
    {
     "name": "stdout",
     "output_type": "stream",
     "text": [
      "TV       float64\n",
      "Sales    float64\n",
      "dtype: object\n"
     ]
    }
   ],
   "source": [
    "print(df.dtypes)"
   ]
  },
  {
   "cell_type": "code",
   "execution_count": 50,
   "metadata": {},
   "outputs": [
    {
     "name": "stdout",
     "output_type": "stream",
     "text": [
      "(200, 2)\n"
     ]
    }
   ],
   "source": [
    "print(df.shape)"
   ]
  },
  {
   "cell_type": "code",
   "execution_count": 51,
   "metadata": {},
   "outputs": [
    {
     "name": "stdout",
     "output_type": "stream",
     "text": [
      "               TV       Sales\n",
      "count  200.000000  200.000000\n",
      "mean   147.042500   14.022500\n",
      "std     85.854236    5.217457\n",
      "min      0.700000    1.600000\n",
      "25%     74.375000   10.375000\n",
      "50%    149.750000   12.900000\n",
      "75%    218.825000   17.400000\n",
      "max    296.400000   27.000000\n"
     ]
    }
   ],
   "source": [
    "print(df.describe())"
   ]
  },
  {
   "cell_type": "code",
   "execution_count": 52,
   "metadata": {},
   "outputs": [
    {
     "data": {
      "image/png": "[encoded data removed]",
      "text/plain": [
       "<Figure size 640x480 with 1 Axes>"
      ]
     },
     "metadata": {},
     "output_type": "display_data"
    }
   ],
   "source": [
    "import matplotlib.pyplot as plt\n",
    "plt.scatter(df['TV'],df['Sales'])\n",
    "plt.xlabel('TV')\n",
    "plt.ylabel('Sales')\n",
    "plt.show()"
   ]
  },
  {
   "cell_type": "code",
   "execution_count": 54,
   "metadata": {},
   "outputs": [],
   "source": [
    "x=df['TV']\n",
    "y=df['Sales']"
   ]
  },
  {
   "cell_type": "code",
   "execution_count": 55,
   "metadata": {},
   "outputs": [
    {
     "name": "stdout",
     "output_type": "stream",
     "text": [
      "(140,)\n",
      "(60,)\n",
      "(140,)\n",
      "(60,)\n"
     ]
    }
   ],
   "source": [
    "from sklearn.model_selection import train_test_split\n",
    "X_train,X_test,y_train,y_test=train_test_split(x,y,train_size=0.7)\n",
    "print(X_train.shape)\n",
    "print(X_test.shape)\n",
    "print(y_train.shape)\n",
    "print(y_test.shape)\n"
   ]
  },
  {
   "cell_type": "code",
   "execution_count": 56,
   "metadata": {},
   "outputs": [
    {
     "name": "stdout",
     "output_type": "stream",
     "text": [
      "[[0.04902643]]\n",
      "[6.87897149]\n",
      "0.6342634355205147\n"
     ]
    }
   ],
   "source": [
    "\n",
    "import numpy as np\n",
    "from sklearn.linear_model import LinearRegression\n",
    "X_train = np.array(X_train).reshape(-1,1)\n",
    "y_train = np.array(y_train).reshape(-1,1)\n",
    "model = LinearRegression()\n",
    "model.fit(X_train, y_train)\n",
    "print(model.coef_) # Slope (m)\n",
    "print(model.intercept_) # Intercept (c)\n",
    "print(model.score(X_train, y_train)) "
   ]
  },
  {
   "cell_type": "code",
   "execution_count": 57,
   "metadata": {},
   "outputs": [
    {
     "name": "stdout",
     "output_type": "stream",
     "text": [
      "Slope (m): 0.0490264324599859\n",
      "Intercept (c): 6.878971489062498\n"
     ]
    }
   ],
   "source": [
    "# Number of training samples\n",
    "import numpy as np\n",
    "N = len(X_train)\n",
    "sum_X = np.sum(X_train)\n",
    "sum_Y = np.sum(y_train)\n",
    "sum_XY = np.sum(X_train * y_train)\n",
    "sum_X2 = np.sum(X_train ** 2)\n",
    "m = (N * sum_XY - sum_X * sum_Y) / (N * sum_X2 - sum_X ** 2)\n",
    "c = (sum_Y - m * sum_X) / N\n",
    "print(f\"Slope (m): {m}\")\n",
    "print(f\"Intercept (c): {c}\")\n"
   ]
  },
  {
   "cell_type": "code",
   "execution_count": 58,
   "metadata": {},
   "outputs": [
    {
     "name": "stdout",
     "output_type": "stream",
     "text": [
      "[[0.04902643]]\n",
      "[6.87897149]\n",
      "0.6342634355205147\n"
     ]
    }
   ],
   "source": [
    "import numpy as np\n",
    "from sklearn.linear_model import LinearRegression\n",
    "x_train=np.array(X_train).reshape(-1,1)\n",
    "y_train=np.array(y_train).reshape(-1,1)\n",
    "model=LinearRegression()\n",
    "\n",
    "model.fit(X_train,y_train)\n",
    "print(model.coef_)\n",
    "print(model.intercept_)\n",
    "print(model.score(X_train,y_train))\n",
    "\n"
   ]
  },
  {
   "cell_type": "markdown",
   "metadata": {},
   "source": [
    "10.Create the model using the calculated coefficients and make predictions on\n",
    "the testing set"
   ]
  },
  {
   "cell_type": "code",
   "execution_count": 59,
   "metadata": {},
   "outputs": [
    {
     "name": "stdout",
     "output_type": "stream",
     "text": [
      "xpredict  [[ 6.91328999]\n",
      " [ 9.06064773]\n",
      " [17.34611482]\n",
      " [14.21822843]\n",
      " [18.25800646]\n",
      " [11.1540764 ]\n",
      " [17.78245007]\n",
      " [21.41040607]\n",
      " [ 9.80094686]\n",
      " [ 8.74197592]\n",
      " [13.70345089]\n",
      " [17.58634434]\n",
      " [18.61099678]\n",
      " [ 7.52121775]\n",
      " [21.13095541]\n",
      " [ 8.10953494]\n",
      " [12.26207377]\n",
      " [ 8.81551557]\n",
      " [20.64069108]\n",
      " [11.65904865]\n",
      " [ 8.1046323 ]\n",
      " [18.05699809]\n",
      " [12.62486937]\n",
      " [18.65021792]\n",
      " [11.31096098]\n",
      " [15.49291567]\n",
      " [15.55665003]\n",
      " [13.22299185]\n",
      " [16.64013419]\n",
      " [15.55665003]\n",
      " [12.26207377]\n",
      " [10.57066185]\n",
      " [10.11961867]\n",
      " [16.24792273]\n",
      " [12.14441034]\n",
      " [18.64041264]\n",
      " [ 8.75178121]\n",
      " [18.72866021]\n",
      " [ 9.69799136]\n",
      " [10.23237947]\n",
      " [14.22313107]\n",
      " [17.21374345]\n",
      " [ 7.7075182 ]\n",
      " [ 7.79576578]\n",
      " [19.76802058]\n",
      " [ 9.93331823]\n",
      " [13.70835353]\n",
      " [ 9.24694818]\n",
      " [17.43926504]\n",
      " [ 8.22719838]\n",
      " [20.45439064]\n",
      " [13.88484869]\n",
      " [10.71283851]\n",
      " [17.78245007]\n",
      " [13.8064064 ]\n",
      " [ 7.83988957]\n",
      " [18.3756699 ]\n",
      " [10.20296361]\n",
      " [15.83119806]\n",
      " [11.59531429]]\n",
      "Ypredict  [[ 6.91328999]\n",
      " [ 9.06064773]\n",
      " [17.34611482]\n",
      " [14.21822843]\n",
      " [18.25800646]\n",
      " [11.1540764 ]\n",
      " [17.78245007]\n",
      " [21.41040607]\n",
      " [ 9.80094686]\n",
      " [ 8.74197592]\n",
      " [13.70345089]\n",
      " [17.58634434]\n",
      " [18.61099678]\n",
      " [ 7.52121775]\n",
      " [21.13095541]\n",
      " [ 8.10953494]\n",
      " [12.26207377]\n",
      " [ 8.81551557]\n",
      " [20.64069108]\n",
      " [11.65904865]\n",
      " [ 8.1046323 ]\n",
      " [18.05699809]\n",
      " [12.62486937]\n",
      " [18.65021792]\n",
      " [11.31096098]\n",
      " [15.49291567]\n",
      " [15.55665003]\n",
      " [13.22299185]\n",
      " [16.64013419]\n",
      " [15.55665003]\n",
      " [12.26207377]\n",
      " [10.57066185]\n",
      " [10.11961867]\n",
      " [16.24792273]\n",
      " [12.14441034]\n",
      " [18.64041264]\n",
      " [ 8.75178121]\n",
      " [18.72866021]\n",
      " [ 9.69799136]\n",
      " [10.23237947]\n",
      " [14.22313107]\n",
      " [17.21374345]\n",
      " [ 7.7075182 ]\n",
      " [ 7.79576578]\n",
      " [19.76802058]\n",
      " [ 9.93331823]\n",
      " [13.70835353]\n",
      " [ 9.24694818]\n",
      " [17.43926504]\n",
      " [ 8.22719838]\n",
      " [20.45439064]\n",
      " [13.88484869]\n",
      " [10.71283851]\n",
      " [17.78245007]\n",
      " [13.8064064 ]\n",
      " [ 7.83988957]\n",
      " [18.3756699 ]\n",
      " [10.20296361]\n",
      " [15.83119806]\n",
      " [11.59531429]]\n"
     ]
    }
   ],
   "source": [
    "# Create the model using the calculated coefficients and make predictions on the testing set\n",
    "X_test=np.array(X_test).reshape(-1,1)\n",
    "X_pred=model.predict(X_test)\n",
    "print(\"xpredict \",X_pred)\n",
    "y_test=np.array(y_test).reshape(-1,1)\n",
    "y_pred=model.predict(X_test)\n",
    "print(\"Ypredict \",y_pred)"
   ]
  },
  {
   "cell_type": "markdown",
   "metadata": {},
   "source": [
    "11.Perform Linear Regression using library(sklearn)"
   ]
  },
  {
   "cell_type": "code",
   "execution_count": 60,
   "metadata": {},
   "outputs": [
    {
     "data": {
      "image/png": "[encoded data removed]",
      "text/plain": [
       "<Figure size 640x480 with 1 Axes>"
      ]
     },
     "metadata": {},
     "output_type": "display_data"
    }
   ],
   "source": [
    "# Plot the test data and the predicted data\n",
    "plt.scatter(X_test,y_test)\n",
    "plt.plot(X_test,y_pred)\n",
    "plt.xlabel('TV')\n",
    "plt.ylabel('Sales')\n",
    "plt.show()"
   ]
  },
  {
   "cell_type": "code",
   "execution_count": 61,
   "metadata": {},
   "outputs": [
    {
     "name": "stdout",
     "output_type": "stream",
     "text": [
      "[[ 6.91328999]\n",
      " [ 9.06064773]\n",
      " [17.34611482]\n",
      " [14.21822843]\n",
      " [18.25800646]\n",
      " [11.1540764 ]\n",
      " [17.78245007]\n",
      " [21.41040607]\n",
      " [ 9.80094686]\n",
      " [ 8.74197592]\n",
      " [13.70345089]\n",
      " [17.58634434]\n",
      " [18.61099678]\n",
      " [ 7.52121775]\n",
      " [21.13095541]\n",
      " [ 8.10953494]\n",
      " [12.26207377]\n",
      " [ 8.81551557]\n",
      " [20.64069108]\n",
      " [11.65904865]\n",
      " [ 8.1046323 ]\n",
      " [18.05699809]\n",
      " [12.62486937]\n",
      " [18.65021792]\n",
      " [11.31096098]\n",
      " [15.49291567]\n",
      " [15.55665003]\n",
      " [13.22299185]\n",
      " [16.64013419]\n",
      " [15.55665003]\n",
      " [12.26207377]\n",
      " [10.57066185]\n",
      " [10.11961867]\n",
      " [16.24792273]\n",
      " [12.14441034]\n",
      " [18.64041264]\n",
      " [ 8.75178121]\n",
      " [18.72866021]\n",
      " [ 9.69799136]\n",
      " [10.23237947]\n",
      " [14.22313107]\n",
      " [17.21374345]\n",
      " [ 7.7075182 ]\n",
      " [ 7.79576578]\n",
      " [19.76802058]\n",
      " [ 9.93331823]\n",
      " [13.70835353]\n",
      " [ 9.24694818]\n",
      " [17.43926504]\n",
      " [ 8.22719838]\n",
      " [20.45439064]\n",
      " [13.88484869]\n",
      " [10.71283851]\n",
      " [17.78245007]\n",
      " [13.8064064 ]\n",
      " [ 7.83988957]\n",
      " [18.3756699 ]\n",
      " [10.20296361]\n",
      " [15.83119806]\n",
      " [11.59531429]]\n"
     ]
    }
   ],
   "source": [
    "# Make predictions on the testing set - y_pred\n",
    "y_pred=model.predict(X_test)\n",
    "print(y_pred)\n"
   ]
  },
  {
   "cell_type": "code",
   "execution_count": 62,
   "metadata": {},
   "outputs": [
    {
     "data": {
      "image/png": "[encoded data removed]",
      "text/plain": [
       "<Figure size 640x480 with 1 Axes>"
      ]
     },
     "metadata": {},
     "output_type": "display_data"
    }
   ],
   "source": [
    "# Plot train data and the model\n",
    "plt.scatter(X_train,y_train)\n",
    "plt.plot(X_train,model.predict(X_train))\n",
    "plt.xlabel('TV')\n",
    "plt.ylabel('Sales')\n",
    "plt.title('Training Data')\n",
    "plt.show()\n"
   ]
  },
  {
   "cell_type": "code",
   "execution_count": 63,
   "metadata": {},
   "outputs": [
    {
     "data": {
      "image/png": "[encoded data removed]",
      "text/plain": [
       "<Figure size 640x480 with 1 Axes>"
      ]
     },
     "metadata": {},
     "output_type": "display_data"
    }
   ],
   "source": [
    "# Plot test data and the model\n",
    "plt.scatter(X_test,y_test)\n",
    "plt.plot(X_test,model.predict(X_test))\n",
    "plt.xlabel('TV')\n",
    "plt.ylabel('Sales')\n",
    "plt.title('Testing Data')\n",
    "plt.show()"
   ]
  },
  {
   "cell_type": "code",
   "execution_count": 64,
   "metadata": {},
   "outputs": [
    {
     "name": "stdout",
     "output_type": "stream",
     "text": [
      "Mean Squared Error: 11.540175813983984\n",
      "R Squared Value: 0.541338592921655\n"
     ]
    }
   ],
   "source": [
    "# Print Mean Squared Error and R Squared Value\n",
    "from sklearn.metrics import mean_squared_error,r2_score\n",
    "print('Mean Squared Error:',mean_squared_error(y_test,y_pred))\n",
    "print('R Squared Value:',r2_score(y_test,y_pred))\n"
   ]
  },
  {
   "cell_type": "code",
   "execution_count": 65,
   "metadata": {},
   "outputs": [
    {
     "name": "stdout",
     "output_type": "stream",
     "text": [
      "mean square 11.540175813983984\n",
      "mean square 0.541338592921655\n"
     ]
    }
   ],
   "source": [
    "from sklearn.metrics import mean_squared_error,r2_score\n",
    "print(\"mean square\",mean_squared_error(y_test,y_pred))\n",
    "print(\"mean square\",r2_score(y_test,y_pred))\n"
   ]
  },
  {
   "cell_type": "code",
   "execution_count": null,
   "metadata": {},
   "outputs": [],
   "source": []
  }
 ],
 "metadata": {
  "kernelspec": {
   "display_name": "Python 3",
   "language": "python",
   "name": "python3"
  },
  "language_info": {
   "codemirror_mode": {
    "name": "ipython",
    "version": 3
   },
   "file_extension": ".py",
   "mimetype": "text/x-python",
   "name": "python",
   "nbconvert_exporter": "python",
   "pygments_lexer": "ipython3",
   "version": "3.12.4"
  }
 },
 "nbformat": 4,
 "nbformat_minor": 2
}
